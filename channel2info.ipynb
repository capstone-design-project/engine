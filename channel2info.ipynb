{
 "metadata": {
  "language_info": {
   "codemirror_mode": {
    "name": "ipython",
    "version": 3
   },
   "file_extension": ".py",
   "mimetype": "text/x-python",
   "name": "python",
   "nbconvert_exporter": "python",
   "pygments_lexer": "ipython3",
   "version": "3.8.5"
  },
  "orig_nbformat": 2,
  "kernelspec": {
   "name": "python385jvsc74a57bd0a680b2670df803462916287d3605e9623f5afa72f41f2b9f130ffe5fc46e8e69",
   "display_name": "Python 3.8.5 64-bit"
  }
 },
 "nbformat": 4,
 "nbformat_minor": 2,
 "cells": [
  {
   "cell_type": "code",
   "execution_count": 2,
   "metadata": {},
   "outputs": [
    {
     "output_type": "stream",
     "name": "stdout",
     "text": [
      "0 ok\n",
      "1 ok\n",
      "2 ok\n",
      "3 ok\n",
      "4 ok\n",
      "5 ok\n",
      "6 ok\n",
      "7 ok\n",
      "8 ok\n",
      "9 ok\n",
      "10 ok\n",
      "11 ok\n",
      "12 ok\n",
      "13 ok\n",
      "14 ok\n",
      "15 ok\n",
      "16 ok\n",
      "17 ok\n",
      "18 ok\n",
      "19 ok\n",
      "20 ok\n",
      "21 ok\n",
      "22 ok\n",
      "23 ok\n",
      "24 ok\n",
      "25 ok\n",
      "26 ok\n",
      "27 ok\n",
      "28 ok\n",
      "29 ok\n"
     ]
    }
   ],
   "source": [
    "from youtube_crawler import youtubeCrawler\n",
    "import json\n",
    "\n",
    "with open('APIKey.json', 'rt', encoding='UTF-8') as f:\n",
    "    key = json.load(f)\n",
    "    apikey = key['APIkey']\n",
    "\n",
    "with open('video_info_complete.json', 'rt', encoding='UTF-8') as f:\n",
    "    complete_json = json.load(f)\n",
    "\n",
    "YC = youtubeCrawler(apikey)\n",
    "\n",
    "rebuild_json = {}\n",
    "channel_info = {}\n",
    "for i, channel_id in enumerate(complete_json.keys()):\n",
    "    rebuild_json[channel_id] = YC.get_channel_info(channel_id)\n",
    "    rebuild_json[channel_id]['videos'] = []\n",
    "    for video_info in complete_json[channel_id]:\n",
    "        rebuild_json[channel_id]['videos'].append(video_info)\n",
    "    \n",
    "    print(f'{i} ok')\n",
    "    \n",
    "\n",
    "with open('rebuild_info.json','wt',encoding='UTF-8') as f:\n",
    "    json.dump(rebuild_json, f, indent=4)"
   ]
  }
 ]
}