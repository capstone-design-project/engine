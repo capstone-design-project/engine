{
 "metadata": {
  "language_info": {
   "codemirror_mode": {
    "name": "ipython",
    "version": 3
   },
   "file_extension": ".py",
   "mimetype": "text/x-python",
   "name": "python",
   "nbconvert_exporter": "python",
   "pygments_lexer": "ipython3",
   "version": "3.8.5"
  },
  "orig_nbformat": 2,
  "kernelspec": {
   "name": "capstonecore",
   "display_name": "Python 3.8.5  ('capstone': venv)"
  }
 },
 "nbformat": 4,
 "nbformat_minor": 2,
 "cells": [
  {
   "cell_type": "code",
   "execution_count": 10,
   "metadata": {},
   "outputs": [],
   "source": [
    "from youtube_crawler import youtubeCrawler\n",
    "import pandas as pd\n",
    "from collections import defaultdict\n",
    "import json\n",
    "\n",
    "df = pd.read_csv('learning_data/capstone_train_data_upgrade.csv')\n",
    "\n",
    "with open('APIkey.json') as f:\n",
    "    key = json.load(f)\n",
    "    apikey = key['APIkey']\n",
    "\n",
    "YC = youtubeCrawler(apikey)\n",
    "\n",
    "video_info = defaultdict(list)\n",
    "\n",
    "for i in range(len(df)):\n",
    "    tmp_info = YC.get_video_info(df['videoId'][i])\n",
    "    video_info[df['channelId'][i]].append(tmp_info)\n",
    "    if i == 2:\n",
    "        break\n",
    "\n",
    "with open('video_info.json','wt',encoding='UTF-8') as f:\n",
    "    json.dump(video_info, f, indent=4)"
   ]
  }
 ]
}